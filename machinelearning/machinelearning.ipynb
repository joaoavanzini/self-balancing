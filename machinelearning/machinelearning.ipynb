{
    "cells": [
        {
            "cell_type": "code",
            "execution_count": 1,
            "source": [
                "import json\n",
                "import requests\n",
                "import pandas as pd\n",
                "import numpy as np\n",
                "import seaborn as sns\n",
                "from sklearn.svm import LinearSVC\n",
                "from sklearn.model_selection import train_test_split\n",
                "\n",
                "\n",
                "from keras.models import Sequential\n",
                "from keras.layers import Dense\n",
                "from sklearn.model_selection import train_test_split\n",
                "from keras.callbacks import ModelCheckpoint, EarlyStopping\n",
                "from keras.layers import Activation, Dense\n",
                "from keras.metrics import Accuracy"
            ],
            "outputs": [],
            "metadata": {}
        },
        {
            "cell_type": "code",
            "execution_count": 2,
            "source": [
                "r = requests.get(\"http://192.168.15.131:5000/api/v0.01/selfbalancing/mongodb/all\")\n",
                "if r.status_code == 200:\n",
                "    register = json.loads(r.content)"
            ],
            "outputs": [],
            "metadata": {}
        },
        {
            "cell_type": "code",
            "execution_count": 3,
            "source": [
                "df = pd.read_json(json.dumps(register))"
            ],
            "outputs": [],
            "metadata": {}
        },
        {
            "cell_type": "code",
            "execution_count": 4,
            "source": [
                "df.head()"
            ],
            "outputs": [
                {
                    "output_type": "execute_result",
                    "data": {
                        "text/html": [
                            "<div>\n",
                            "<style scoped>\n",
                            "    .dataframe tbody tr th:only-of-type {\n",
                            "        vertical-align: middle;\n",
                            "    }\n",
                            "\n",
                            "    .dataframe tbody tr th {\n",
                            "        vertical-align: top;\n",
                            "    }\n",
                            "\n",
                            "    .dataframe thead th {\n",
                            "        text-align: right;\n",
                            "    }\n",
                            "</style>\n",
                            "<table border=\"1\" class=\"dataframe\">\n",
                            "  <thead>\n",
                            "    <tr style=\"text-align: right;\">\n",
                            "      <th></th>\n",
                            "      <th>gyroy</th>\n",
                            "      <th>kalangley</th>\n",
                            "      <th>kd</th>\n",
                            "      <th>ki</th>\n",
                            "      <th>kp</th>\n",
                            "      <th>pitch</th>\n",
                            "      <th>res</th>\n",
                            "    </tr>\n",
                            "  </thead>\n",
                            "  <tbody>\n",
                            "    <tr>\n",
                            "      <th>0</th>\n",
                            "      <td>-145</td>\n",
                            "      <td>-83.30</td>\n",
                            "      <td>1</td>\n",
                            "      <td>5</td>\n",
                            "      <td>22</td>\n",
                            "      <td>-83.20</td>\n",
                            "      <td>200</td>\n",
                            "    </tr>\n",
                            "    <tr>\n",
                            "      <th>1</th>\n",
                            "      <td>-155</td>\n",
                            "      <td>-83.30</td>\n",
                            "      <td>1</td>\n",
                            "      <td>5</td>\n",
                            "      <td>22</td>\n",
                            "      <td>-83.14</td>\n",
                            "      <td>200</td>\n",
                            "    </tr>\n",
                            "    <tr>\n",
                            "      <th>2</th>\n",
                            "      <td>-146</td>\n",
                            "      <td>-83.31</td>\n",
                            "      <td>1</td>\n",
                            "      <td>5</td>\n",
                            "      <td>22</td>\n",
                            "      <td>-83.48</td>\n",
                            "      <td>200</td>\n",
                            "    </tr>\n",
                            "    <tr>\n",
                            "      <th>3</th>\n",
                            "      <td>-110</td>\n",
                            "      <td>-83.31</td>\n",
                            "      <td>1</td>\n",
                            "      <td>5</td>\n",
                            "      <td>22</td>\n",
                            "      <td>-83.36</td>\n",
                            "      <td>200</td>\n",
                            "    </tr>\n",
                            "    <tr>\n",
                            "      <th>4</th>\n",
                            "      <td>-99</td>\n",
                            "      <td>-83.32</td>\n",
                            "      <td>1</td>\n",
                            "      <td>5</td>\n",
                            "      <td>22</td>\n",
                            "      <td>-83.54</td>\n",
                            "      <td>200</td>\n",
                            "    </tr>\n",
                            "  </tbody>\n",
                            "</table>\n",
                            "</div>"
                        ],
                        "text/plain": [
                            "   gyroy  kalangley  kd  ki  kp  pitch  res\n",
                            "0   -145     -83.30   1   5  22 -83.20  200\n",
                            "1   -155     -83.30   1   5  22 -83.14  200\n",
                            "2   -146     -83.31   1   5  22 -83.48  200\n",
                            "3   -110     -83.31   1   5  22 -83.36  200\n",
                            "4    -99     -83.32   1   5  22 -83.54  200"
                        ]
                    },
                    "metadata": {},
                    "execution_count": 4
                }
            ],
            "metadata": {}
        },
        {
            "cell_type": "code",
            "execution_count": 5,
            "source": [
                "# df.gyroy = df.gyroy.astype(float)\n",
                "# df.kalangley = df.kalangley.astype(float)\n",
                "# df.kd = df.kd.astype(float)\n",
                "# df.ki = df.ki.astype(float)\n",
                "# df.kp = df.kp.astype(float)\n",
                "# df.pitch = df.pitch.astype(float)\n",
                "# df.res = df.res.astype(float)"
            ],
            "outputs": [],
            "metadata": {}
        },
        {
            "cell_type": "code",
            "execution_count": 6,
            "source": [
                "df.shape"
            ],
            "outputs": [
                {
                    "output_type": "execute_result",
                    "data": {
                        "text/plain": [
                            "(1575, 7)"
                        ]
                    },
                    "metadata": {},
                    "execution_count": 6
                }
            ],
            "metadata": {}
        },
        {
            "cell_type": "code",
            "execution_count": 7,
            "source": [
                "df.head()"
            ],
            "outputs": [
                {
                    "output_type": "execute_result",
                    "data": {
                        "text/html": [
                            "<div>\n",
                            "<style scoped>\n",
                            "    .dataframe tbody tr th:only-of-type {\n",
                            "        vertical-align: middle;\n",
                            "    }\n",
                            "\n",
                            "    .dataframe tbody tr th {\n",
                            "        vertical-align: top;\n",
                            "    }\n",
                            "\n",
                            "    .dataframe thead th {\n",
                            "        text-align: right;\n",
                            "    }\n",
                            "</style>\n",
                            "<table border=\"1\" class=\"dataframe\">\n",
                            "  <thead>\n",
                            "    <tr style=\"text-align: right;\">\n",
                            "      <th></th>\n",
                            "      <th>gyroy</th>\n",
                            "      <th>kalangley</th>\n",
                            "      <th>kd</th>\n",
                            "      <th>ki</th>\n",
                            "      <th>kp</th>\n",
                            "      <th>pitch</th>\n",
                            "      <th>res</th>\n",
                            "    </tr>\n",
                            "  </thead>\n",
                            "  <tbody>\n",
                            "    <tr>\n",
                            "      <th>0</th>\n",
                            "      <td>-145</td>\n",
                            "      <td>-83.30</td>\n",
                            "      <td>1</td>\n",
                            "      <td>5</td>\n",
                            "      <td>22</td>\n",
                            "      <td>-83.20</td>\n",
                            "      <td>200</td>\n",
                            "    </tr>\n",
                            "    <tr>\n",
                            "      <th>1</th>\n",
                            "      <td>-155</td>\n",
                            "      <td>-83.30</td>\n",
                            "      <td>1</td>\n",
                            "      <td>5</td>\n",
                            "      <td>22</td>\n",
                            "      <td>-83.14</td>\n",
                            "      <td>200</td>\n",
                            "    </tr>\n",
                            "    <tr>\n",
                            "      <th>2</th>\n",
                            "      <td>-146</td>\n",
                            "      <td>-83.31</td>\n",
                            "      <td>1</td>\n",
                            "      <td>5</td>\n",
                            "      <td>22</td>\n",
                            "      <td>-83.48</td>\n",
                            "      <td>200</td>\n",
                            "    </tr>\n",
                            "    <tr>\n",
                            "      <th>3</th>\n",
                            "      <td>-110</td>\n",
                            "      <td>-83.31</td>\n",
                            "      <td>1</td>\n",
                            "      <td>5</td>\n",
                            "      <td>22</td>\n",
                            "      <td>-83.36</td>\n",
                            "      <td>200</td>\n",
                            "    </tr>\n",
                            "    <tr>\n",
                            "      <th>4</th>\n",
                            "      <td>-99</td>\n",
                            "      <td>-83.32</td>\n",
                            "      <td>1</td>\n",
                            "      <td>5</td>\n",
                            "      <td>22</td>\n",
                            "      <td>-83.54</td>\n",
                            "      <td>200</td>\n",
                            "    </tr>\n",
                            "  </tbody>\n",
                            "</table>\n",
                            "</div>"
                        ],
                        "text/plain": [
                            "   gyroy  kalangley  kd  ki  kp  pitch  res\n",
                            "0   -145     -83.30   1   5  22 -83.20  200\n",
                            "1   -155     -83.30   1   5  22 -83.14  200\n",
                            "2   -146     -83.31   1   5  22 -83.48  200\n",
                            "3   -110     -83.31   1   5  22 -83.36  200\n",
                            "4    -99     -83.32   1   5  22 -83.54  200"
                        ]
                    },
                    "metadata": {},
                    "execution_count": 7
                }
            ],
            "metadata": {}
        },
        {
            "cell_type": "code",
            "execution_count": 8,
            "source": [
                "sns.relplot(x = \"pitch\", y = \"gyroy\", data = df)"
            ],
            "outputs": [
                {
                    "output_type": "execute_result",
                    "data": {
                        "text/plain": [
                            "<seaborn.axisgrid.FacetGrid at 0x7f220c503880>"
                        ]
                    },
                    "metadata": {},
                    "execution_count": 8
                },
                {
                    "output_type": "display_data",
                    "data": {
                        "image/png": "[encoded data removed]",
                        "text/plain": [
                            "<Figure size 360x360 with 1 Axes>"
                        ]
                    },
                    "metadata": {
                        "needs_background": "light"
                    }
                }
            ],
            "metadata": {}
        },
        {
            "cell_type": "code",
            "execution_count": 9,
            "source": [
                "for x in range(len(df)):\n",
                "    if -150 < df[\"gyroy\"][x] < -100:\n",
                "        df.loc[x, \"up\"] = 1\n",
                "    else:\n",
                "        df.loc[x, \"up\"] = 0"
            ],
            "outputs": [],
            "metadata": {}
        },
        {
            "cell_type": "code",
            "execution_count": 10,
            "source": [
                "df.sample(10)"
            ],
            "outputs": [
                {
                    "output_type": "execute_result",
                    "data": {
                        "text/html": [
                            "<div>\n",
                            "<style scoped>\n",
                            "    .dataframe tbody tr th:only-of-type {\n",
                            "        vertical-align: middle;\n",
                            "    }\n",
                            "\n",
                            "    .dataframe tbody tr th {\n",
                            "        vertical-align: top;\n",
                            "    }\n",
                            "\n",
                            "    .dataframe thead th {\n",
                            "        text-align: right;\n",
                            "    }\n",
                            "</style>\n",
                            "<table border=\"1\" class=\"dataframe\">\n",
                            "  <thead>\n",
                            "    <tr style=\"text-align: right;\">\n",
                            "      <th></th>\n",
                            "      <th>gyroy</th>\n",
                            "      <th>kalangley</th>\n",
                            "      <th>kd</th>\n",
                            "      <th>ki</th>\n",
                            "      <th>kp</th>\n",
                            "      <th>pitch</th>\n",
                            "      <th>res</th>\n",
                            "      <th>up</th>\n",
                            "    </tr>\n",
                            "  </thead>\n",
                            "  <tbody>\n",
                            "    <tr>\n",
                            "      <th>90</th>\n",
                            "      <td>-124</td>\n",
                            "      <td>-83.28</td>\n",
                            "      <td>1</td>\n",
                            "      <td>5</td>\n",
                            "      <td>22</td>\n",
                            "      <td>-83.30</td>\n",
                            "      <td>200</td>\n",
                            "      <td>1.0</td>\n",
                            "    </tr>\n",
                            "    <tr>\n",
                            "      <th>1363</th>\n",
                            "      <td>-124</td>\n",
                            "      <td>-83.18</td>\n",
                            "      <td>1</td>\n",
                            "      <td>5</td>\n",
                            "      <td>22</td>\n",
                            "      <td>-82.97</td>\n",
                            "      <td>200</td>\n",
                            "      <td>1.0</td>\n",
                            "    </tr>\n",
                            "    <tr>\n",
                            "      <th>1403</th>\n",
                            "      <td>-128</td>\n",
                            "      <td>-83.14</td>\n",
                            "      <td>1</td>\n",
                            "      <td>5</td>\n",
                            "      <td>22</td>\n",
                            "      <td>-83.04</td>\n",
                            "      <td>200</td>\n",
                            "      <td>1.0</td>\n",
                            "    </tr>\n",
                            "    <tr>\n",
                            "      <th>173</th>\n",
                            "      <td>-110</td>\n",
                            "      <td>-83.21</td>\n",
                            "      <td>1</td>\n",
                            "      <td>5</td>\n",
                            "      <td>22</td>\n",
                            "      <td>-83.42</td>\n",
                            "      <td>200</td>\n",
                            "      <td>1.0</td>\n",
                            "    </tr>\n",
                            "    <tr>\n",
                            "      <th>1404</th>\n",
                            "      <td>-124</td>\n",
                            "      <td>-83.13</td>\n",
                            "      <td>1</td>\n",
                            "      <td>5</td>\n",
                            "      <td>22</td>\n",
                            "      <td>-83.02</td>\n",
                            "      <td>200</td>\n",
                            "      <td>1.0</td>\n",
                            "    </tr>\n",
                            "    <tr>\n",
                            "      <th>788</th>\n",
                            "      <td>-155</td>\n",
                            "      <td>-83.15</td>\n",
                            "      <td>1</td>\n",
                            "      <td>5</td>\n",
                            "      <td>22</td>\n",
                            "      <td>-83.31</td>\n",
                            "      <td>200</td>\n",
                            "      <td>0.0</td>\n",
                            "    </tr>\n",
                            "    <tr>\n",
                            "      <th>492</th>\n",
                            "      <td>-184</td>\n",
                            "      <td>-83.27</td>\n",
                            "      <td>1</td>\n",
                            "      <td>5</td>\n",
                            "      <td>22</td>\n",
                            "      <td>-82.93</td>\n",
                            "      <td>200</td>\n",
                            "      <td>0.0</td>\n",
                            "    </tr>\n",
                            "    <tr>\n",
                            "      <th>410</th>\n",
                            "      <td>-120</td>\n",
                            "      <td>-83.16</td>\n",
                            "      <td>1</td>\n",
                            "      <td>5</td>\n",
                            "      <td>22</td>\n",
                            "      <td>-83.39</td>\n",
                            "      <td>200</td>\n",
                            "      <td>1.0</td>\n",
                            "    </tr>\n",
                            "    <tr>\n",
                            "      <th>1133</th>\n",
                            "      <td>-95</td>\n",
                            "      <td>-83.19</td>\n",
                            "      <td>1</td>\n",
                            "      <td>5</td>\n",
                            "      <td>22</td>\n",
                            "      <td>-82.75</td>\n",
                            "      <td>200</td>\n",
                            "      <td>0.0</td>\n",
                            "    </tr>\n",
                            "    <tr>\n",
                            "      <th>867</th>\n",
                            "      <td>-141</td>\n",
                            "      <td>-83.11</td>\n",
                            "      <td>1</td>\n",
                            "      <td>5</td>\n",
                            "      <td>22</td>\n",
                            "      <td>-82.94</td>\n",
                            "      <td>200</td>\n",
                            "      <td>1.0</td>\n",
                            "    </tr>\n",
                            "  </tbody>\n",
                            "</table>\n",
                            "</div>"
                        ],
                        "text/plain": [
                            "      gyroy  kalangley  kd  ki  kp  pitch  res   up\n",
                            "90     -124     -83.28   1   5  22 -83.30  200  1.0\n",
                            "1363   -124     -83.18   1   5  22 -82.97  200  1.0\n",
                            "1403   -128     -83.14   1   5  22 -83.04  200  1.0\n",
                            "173    -110     -83.21   1   5  22 -83.42  200  1.0\n",
                            "1404   -124     -83.13   1   5  22 -83.02  200  1.0\n",
                            "788    -155     -83.15   1   5  22 -83.31  200  0.0\n",
                            "492    -184     -83.27   1   5  22 -82.93  200  0.0\n",
                            "410    -120     -83.16   1   5  22 -83.39  200  1.0\n",
                            "1133    -95     -83.19   1   5  22 -82.75  200  0.0\n",
                            "867    -141     -83.11   1   5  22 -82.94  200  1.0"
                        ]
                    },
                    "metadata": {},
                    "execution_count": 10
                }
            ],
            "metadata": {}
        },
        {
            "cell_type": "code",
            "execution_count": 11,
            "source": [
                "#df.to_csv(\"teste.csv\", index=False)"
            ],
            "outputs": [],
            "metadata": {}
        },
        {
            "cell_type": "code",
            "execution_count": 12,
            "source": [
                "features = df.iloc[:,0:7]\n",
                "target = df.iloc[:,7]"
            ],
            "outputs": [],
            "metadata": {}
        },
        {
            "cell_type": "code",
            "execution_count": 13,
            "source": [
                "target"
            ],
            "outputs": [
                {
                    "output_type": "execute_result",
                    "data": {
                        "text/plain": [
                            "0       1.0\n",
                            "1       0.0\n",
                            "2       1.0\n",
                            "3       1.0\n",
                            "4       0.0\n",
                            "       ... \n",
                            "1570    1.0\n",
                            "1571    1.0\n",
                            "1572    1.0\n",
                            "1573    1.0\n",
                            "1574    1.0\n",
                            "Name: up, Length: 1575, dtype: float64"
                        ]
                    },
                    "metadata": {},
                    "execution_count": 13
                }
            ],
            "metadata": {}
        },
        {
            "cell_type": "code",
            "execution_count": 14,
            "source": [
                "features"
            ],
            "outputs": [
                {
                    "output_type": "execute_result",
                    "data": {
                        "text/html": [
                            "<div>\n",
                            "<style scoped>\n",
                            "    .dataframe tbody tr th:only-of-type {\n",
                            "        vertical-align: middle;\n",
                            "    }\n",
                            "\n",
                            "    .dataframe tbody tr th {\n",
                            "        vertical-align: top;\n",
                            "    }\n",
                            "\n",
                            "    .dataframe thead th {\n",
                            "        text-align: right;\n",
                            "    }\n",
                            "</style>\n",
                            "<table border=\"1\" class=\"dataframe\">\n",
                            "  <thead>\n",
                            "    <tr style=\"text-align: right;\">\n",
                            "      <th></th>\n",
                            "      <th>gyroy</th>\n",
                            "      <th>kalangley</th>\n",
                            "      <th>kd</th>\n",
                            "      <th>ki</th>\n",
                            "      <th>kp</th>\n",
                            "      <th>pitch</th>\n",
                            "      <th>res</th>\n",
                            "    </tr>\n",
                            "  </thead>\n",
                            "  <tbody>\n",
                            "    <tr>\n",
                            "      <th>0</th>\n",
                            "      <td>-145</td>\n",
                            "      <td>-83.30</td>\n",
                            "      <td>1</td>\n",
                            "      <td>5</td>\n",
                            "      <td>22</td>\n",
                            "      <td>-83.20</td>\n",
                            "      <td>200</td>\n",
                            "    </tr>\n",
                            "    <tr>\n",
                            "      <th>1</th>\n",
                            "      <td>-155</td>\n",
                            "      <td>-83.30</td>\n",
                            "      <td>1</td>\n",
                            "      <td>5</td>\n",
                            "      <td>22</td>\n",
                            "      <td>-83.14</td>\n",
                            "      <td>200</td>\n",
                            "    </tr>\n",
                            "    <tr>\n",
                            "      <th>2</th>\n",
                            "      <td>-146</td>\n",
                            "      <td>-83.31</td>\n",
                            "      <td>1</td>\n",
                            "      <td>5</td>\n",
                            "      <td>22</td>\n",
                            "      <td>-83.48</td>\n",
                            "      <td>200</td>\n",
                            "    </tr>\n",
                            "    <tr>\n",
                            "      <th>3</th>\n",
                            "      <td>-110</td>\n",
                            "      <td>-83.31</td>\n",
                            "      <td>1</td>\n",
                            "      <td>5</td>\n",
                            "      <td>22</td>\n",
                            "      <td>-83.36</td>\n",
                            "      <td>200</td>\n",
                            "    </tr>\n",
                            "    <tr>\n",
                            "      <th>4</th>\n",
                            "      <td>-99</td>\n",
                            "      <td>-83.32</td>\n",
                            "      <td>1</td>\n",
                            "      <td>5</td>\n",
                            "      <td>22</td>\n",
                            "      <td>-83.54</td>\n",
                            "      <td>200</td>\n",
                            "    </tr>\n",
                            "    <tr>\n",
                            "      <th>...</th>\n",
                            "      <td>...</td>\n",
                            "      <td>...</td>\n",
                            "      <td>...</td>\n",
                            "      <td>...</td>\n",
                            "      <td>...</td>\n",
                            "      <td>...</td>\n",
                            "      <td>...</td>\n",
                            "    </tr>\n",
                            "    <tr>\n",
                            "      <th>1570</th>\n",
                            "      <td>-113</td>\n",
                            "      <td>-83.21</td>\n",
                            "      <td>1</td>\n",
                            "      <td>5</td>\n",
                            "      <td>22</td>\n",
                            "      <td>-83.55</td>\n",
                            "      <td>200</td>\n",
                            "    </tr>\n",
                            "    <tr>\n",
                            "      <th>1571</th>\n",
                            "      <td>-143</td>\n",
                            "      <td>-83.21</td>\n",
                            "      <td>1</td>\n",
                            "      <td>5</td>\n",
                            "      <td>22</td>\n",
                            "      <td>-83.00</td>\n",
                            "      <td>200</td>\n",
                            "    </tr>\n",
                            "    <tr>\n",
                            "      <th>1572</th>\n",
                            "      <td>-110</td>\n",
                            "      <td>-83.20</td>\n",
                            "      <td>1</td>\n",
                            "      <td>5</td>\n",
                            "      <td>22</td>\n",
                            "      <td>-83.12</td>\n",
                            "      <td>200</td>\n",
                            "    </tr>\n",
                            "    <tr>\n",
                            "      <th>1573</th>\n",
                            "      <td>-142</td>\n",
                            "      <td>-83.21</td>\n",
                            "      <td>1</td>\n",
                            "      <td>5</td>\n",
                            "      <td>22</td>\n",
                            "      <td>-83.32</td>\n",
                            "      <td>200</td>\n",
                            "    </tr>\n",
                            "    <tr>\n",
                            "      <th>1574</th>\n",
                            "      <td>-104</td>\n",
                            "      <td>-83.20</td>\n",
                            "      <td>1</td>\n",
                            "      <td>5</td>\n",
                            "      <td>22</td>\n",
                            "      <td>-83.04</td>\n",
                            "      <td>200</td>\n",
                            "    </tr>\n",
                            "  </tbody>\n",
                            "</table>\n",
                            "<p>1575 rows × 7 columns</p>\n",
                            "</div>"
                        ],
                        "text/plain": [
                            "      gyroy  kalangley  kd  ki  kp  pitch  res\n",
                            "0      -145     -83.30   1   5  22 -83.20  200\n",
                            "1      -155     -83.30   1   5  22 -83.14  200\n",
                            "2      -146     -83.31   1   5  22 -83.48  200\n",
                            "3      -110     -83.31   1   5  22 -83.36  200\n",
                            "4       -99     -83.32   1   5  22 -83.54  200\n",
                            "...     ...        ...  ..  ..  ..    ...  ...\n",
                            "1570   -113     -83.21   1   5  22 -83.55  200\n",
                            "1571   -143     -83.21   1   5  22 -83.00  200\n",
                            "1572   -110     -83.20   1   5  22 -83.12  200\n",
                            "1573   -142     -83.21   1   5  22 -83.32  200\n",
                            "1574   -104     -83.20   1   5  22 -83.04  200\n",
                            "\n",
                            "[1575 rows x 7 columns]"
                        ]
                    },
                    "metadata": {},
                    "execution_count": 14
                }
            ],
            "metadata": {}
        },
        {
            "cell_type": "code",
            "execution_count": 15,
            "source": [
                "X_train, X_test, y_train, y_test = train_test_split(target, features, test_size=0.33, random_state=8)"
            ],
            "outputs": [],
            "metadata": {}
        },
        {
            "cell_type": "code",
            "execution_count": 16,
            "source": [
                "X_train.shape"
            ],
            "outputs": [
                {
                    "output_type": "execute_result",
                    "data": {
                        "text/plain": [
                            "(1055,)"
                        ]
                    },
                    "metadata": {},
                    "execution_count": 16
                }
            ],
            "metadata": {}
        },
        {
            "cell_type": "code",
            "execution_count": 17,
            "source": [
                "#import tensorflow as tf"
            ],
            "outputs": [],
            "metadata": {}
        },
        {
            "cell_type": "code",
            "execution_count": 18,
            "source": [
                "# modelo = Sequential([tf.keras.layers.Input(shape=(7,)),\n",
                "#                     tf.keras.layers.Dense(1, activation='sigmoid')\n",
                "# ])\n",
                "modelo = Sequential()\n",
                "modelo.add(Dense(12, input_dim=7, activation='relu'))\n",
                "modelo.add(Dense(12, activation='relu'))\n",
                "modelo.add(Dense(1, activation='sigmoid'))"
            ],
            "outputs": [],
            "metadata": {}
        },
        {
            "cell_type": "code",
            "execution_count": 19,
            "source": [
                "#modelo.compile(loss='mse', optimizer='adam', metrics=['accuracy'])\n",
                "modelo.compile(optimizer='adam', loss='binary_crossentropy', metrics=['accuracy'])\n"
            ],
            "outputs": [],
            "metadata": {}
        },
        {
            "cell_type": "code",
            "execution_count": 20,
            "source": [
                "historico = modelo.fit(y_train, X_train, epochs=100)"
            ],
            "outputs": [
                {
                    "output_type": "stream",
                    "name": "stdout",
                    "text": [
                        "Epoch 1/100\n",
                        "33/33 [==============================] - 0s 761us/step - loss: 17.9650 - accuracy: 0.1905\n",
                        "Epoch 2/100\n",
                        "33/33 [==============================] - 0s 863us/step - loss: 0.7776 - accuracy: 0.7555\n",
                        "Epoch 3/100\n",
                        "33/33 [==============================] - 0s 792us/step - loss: 0.4971 - accuracy: 0.8161\n",
                        "Epoch 4/100\n",
                        "33/33 [==============================] - 0s 772us/step - loss: 0.3782 - accuracy: 0.8313\n",
                        "Epoch 5/100\n",
                        "33/33 [==============================] - 0s 817us/step - loss: 0.3592 - accuracy: 0.8332\n",
                        "Epoch 6/100\n",
                        "33/33 [==============================] - 0s 980us/step - loss: 0.3503 - accuracy: 0.8398\n",
                        "Epoch 7/100\n",
                        "33/33 [==============================] - 0s 879us/step - loss: 0.3411 - accuracy: 0.8474\n",
                        "Epoch 8/100\n",
                        "33/33 [==============================] - 0s 946us/step - loss: 0.3321 - accuracy: 0.8464\n",
                        "Epoch 9/100\n",
                        "33/33 [==============================] - 0s 885us/step - loss: 0.3211 - accuracy: 0.8512\n",
                        "Epoch 10/100\n",
                        "33/33 [==============================] - 0s 1ms/step - loss: 0.3129 - accuracy: 0.8607\n",
                        "Epoch 11/100\n",
                        "33/33 [==============================] - 0s 815us/step - loss: 0.3077 - accuracy: 0.8654\n",
                        "Epoch 12/100\n",
                        "33/33 [==============================] - 0s 813us/step - loss: 0.2991 - accuracy: 0.8654\n",
                        "Epoch 13/100\n",
                        "33/33 [==============================] - 0s 856us/step - loss: 0.2902 - accuracy: 0.8664\n",
                        "Epoch 14/100\n",
                        "33/33 [==============================] - 0s 869us/step - loss: 0.2827 - accuracy: 0.8720\n",
                        "Epoch 15/100\n",
                        "33/33 [==============================] - 0s 1ms/step - loss: 0.2789 - accuracy: 0.8749\n",
                        "Epoch 16/100\n",
                        "33/33 [==============================] - 0s 839us/step - loss: 0.2706 - accuracy: 0.8739\n",
                        "Epoch 17/100\n",
                        "33/33 [==============================] - 0s 868us/step - loss: 0.2630 - accuracy: 0.8739\n",
                        "Epoch 18/100\n",
                        "33/33 [==============================] - 0s 830us/step - loss: 0.2571 - accuracy: 0.8825\n",
                        "Epoch 19/100\n",
                        "33/33 [==============================] - 0s 1ms/step - loss: 0.2505 - accuracy: 0.8863\n",
                        "Epoch 20/100\n",
                        "33/33 [==============================] - 0s 902us/step - loss: 0.2417 - accuracy: 0.8910\n",
                        "Epoch 21/100\n",
                        "33/33 [==============================] - 0s 868us/step - loss: 0.2369 - accuracy: 0.8929\n",
                        "Epoch 22/100\n",
                        "33/33 [==============================] - 0s 896us/step - loss: 0.2358 - accuracy: 0.8976\n",
                        "Epoch 23/100\n",
                        "33/33 [==============================] - 0s 878us/step - loss: 0.2275 - accuracy: 0.9052\n",
                        "Epoch 24/100\n",
                        "33/33 [==============================] - 0s 924us/step - loss: 0.2192 - accuracy: 0.9090\n",
                        "Epoch 25/100\n",
                        "33/33 [==============================] - 0s 1ms/step - loss: 0.2155 - accuracy: 0.9081\n",
                        "Epoch 26/100\n",
                        "33/33 [==============================] - 0s 897us/step - loss: 0.2154 - accuracy: 0.9043\n",
                        "Epoch 27/100\n",
                        "33/33 [==============================] - 0s 794us/step - loss: 0.2036 - accuracy: 0.9194\n",
                        "Epoch 28/100\n",
                        "33/33 [==============================] - 0s 1ms/step - loss: 0.2014 - accuracy: 0.9213\n",
                        "Epoch 29/100\n",
                        "33/33 [==============================] - 0s 984us/step - loss: 0.1958 - accuracy: 0.9194\n",
                        "Epoch 30/100\n",
                        "33/33 [==============================] - 0s 896us/step - loss: 0.1954 - accuracy: 0.9185\n",
                        "Epoch 31/100\n",
                        "33/33 [==============================] - 0s 804us/step - loss: 0.1859 - accuracy: 0.9336\n",
                        "Epoch 32/100\n",
                        "33/33 [==============================] - 0s 864us/step - loss: 0.1849 - accuracy: 0.9223\n",
                        "Epoch 33/100\n",
                        "33/33 [==============================] - 0s 826us/step - loss: 0.1782 - accuracy: 0.9242\n",
                        "Epoch 34/100\n",
                        "33/33 [==============================] - 0s 815us/step - loss: 0.1742 - accuracy: 0.9384\n",
                        "Epoch 35/100\n",
                        "33/33 [==============================] - 0s 792us/step - loss: 0.1707 - accuracy: 0.9441\n",
                        "Epoch 36/100\n",
                        "33/33 [==============================] - 0s 835us/step - loss: 0.1668 - accuracy: 0.9412\n",
                        "Epoch 37/100\n",
                        "33/33 [==============================] - 0s 841us/step - loss: 0.1670 - accuracy: 0.9327\n",
                        "Epoch 38/100\n",
                        "33/33 [==============================] - 0s 1ms/step - loss: 0.1605 - accuracy: 0.9412\n",
                        "Epoch 39/100\n",
                        "33/33 [==============================] - 0s 764us/step - loss: 0.1573 - accuracy: 0.9488\n",
                        "Epoch 40/100\n",
                        "33/33 [==============================] - 0s 1ms/step - loss: 0.1570 - accuracy: 0.9422\n",
                        "Epoch 41/100\n",
                        "33/33 [==============================] - 0s 943us/step - loss: 0.1497 - accuracy: 0.9469\n",
                        "Epoch 42/100\n",
                        "33/33 [==============================] - 0s 1ms/step - loss: 0.1565 - accuracy: 0.9517\n",
                        "Epoch 43/100\n",
                        "33/33 [==============================] - 0s 2ms/step - loss: 0.1552 - accuracy: 0.9412\n",
                        "Epoch 44/100\n",
                        "33/33 [==============================] - 0s 1ms/step - loss: 0.1424 - accuracy: 0.9507\n",
                        "Epoch 45/100\n",
                        "33/33 [==============================] - 0s 911us/step - loss: 0.1411 - accuracy: 0.9545\n",
                        "Epoch 46/100\n",
                        "33/33 [==============================] - 0s 2ms/step - loss: 0.1401 - accuracy: 0.9479\n",
                        "Epoch 47/100\n",
                        "33/33 [==============================] - 0s 779us/step - loss: 0.1450 - accuracy: 0.9517\n",
                        "Epoch 48/100\n",
                        "33/33 [==============================] - 0s 815us/step - loss: 0.1316 - accuracy: 0.9564\n",
                        "Epoch 49/100\n",
                        "33/33 [==============================] - 0s 816us/step - loss: 0.1299 - accuracy: 0.9611\n",
                        "Epoch 50/100\n",
                        "33/33 [==============================] - 0s 766us/step - loss: 0.1401 - accuracy: 0.9441\n",
                        "Epoch 51/100\n",
                        "33/33 [==============================] - 0s 857us/step - loss: 0.1263 - accuracy: 0.9668\n",
                        "Epoch 52/100\n",
                        "33/33 [==============================] - 0s 796us/step - loss: 0.1241 - accuracy: 0.9630\n",
                        "Epoch 53/100\n",
                        "33/33 [==============================] - 0s 749us/step - loss: 0.1218 - accuracy: 0.9602\n",
                        "Epoch 54/100\n",
                        "33/33 [==============================] - 0s 1ms/step - loss: 0.1185 - accuracy: 0.9649\n",
                        "Epoch 55/100\n",
                        "33/33 [==============================] - 0s 847us/step - loss: 0.1205 - accuracy: 0.9668\n",
                        "Epoch 56/100\n",
                        "33/33 [==============================] - 0s 837us/step - loss: 0.1189 - accuracy: 0.9621\n",
                        "Epoch 57/100\n",
                        "33/33 [==============================] - 0s 787us/step - loss: 0.1184 - accuracy: 0.9659\n",
                        "Epoch 58/100\n",
                        "33/33 [==============================] - 0s 770us/step - loss: 0.1126 - accuracy: 0.9668\n",
                        "Epoch 59/100\n",
                        "33/33 [==============================] - 0s 869us/step - loss: 0.1124 - accuracy: 0.9697\n",
                        "Epoch 60/100\n",
                        "33/33 [==============================] - 0s 839us/step - loss: 0.1090 - accuracy: 0.9678\n",
                        "Epoch 61/100\n",
                        "33/33 [==============================] - 0s 791us/step - loss: 0.1108 - accuracy: 0.9630\n",
                        "Epoch 62/100\n",
                        "33/33 [==============================] - 0s 799us/step - loss: 0.1064 - accuracy: 0.9725\n",
                        "Epoch 63/100\n",
                        "33/33 [==============================] - 0s 852us/step - loss: 0.1025 - accuracy: 0.9735\n",
                        "Epoch 64/100\n",
                        "33/33 [==============================] - 0s 995us/step - loss: 0.1047 - accuracy: 0.9659\n",
                        "Epoch 65/100\n",
                        "33/33 [==============================] - 0s 787us/step - loss: 0.1053 - accuracy: 0.9697\n",
                        "Epoch 66/100\n",
                        "33/33 [==============================] - 0s 842us/step - loss: 0.1024 - accuracy: 0.9678\n",
                        "Epoch 67/100\n",
                        "33/33 [==============================] - 0s 852us/step - loss: 0.0977 - accuracy: 0.9716\n",
                        "Epoch 68/100\n",
                        "33/33 [==============================] - 0s 796us/step - loss: 0.0980 - accuracy: 0.9754\n",
                        "Epoch 69/100\n",
                        "33/33 [==============================] - 0s 887us/step - loss: 0.0971 - accuracy: 0.9735\n",
                        "Epoch 70/100\n",
                        "33/33 [==============================] - 0s 800us/step - loss: 0.0961 - accuracy: 0.9716\n",
                        "Epoch 71/100\n",
                        "33/33 [==============================] - 0s 758us/step - loss: 0.0971 - accuracy: 0.9744\n",
                        "Epoch 72/100\n",
                        "33/33 [==============================] - 0s 825us/step - loss: 0.0951 - accuracy: 0.9754\n",
                        "Epoch 73/100\n",
                        "33/33 [==============================] - 0s 839us/step - loss: 0.0960 - accuracy: 0.9754\n",
                        "Epoch 74/100\n",
                        "33/33 [==============================] - 0s 1ms/step - loss: 0.0904 - accuracy: 0.9706\n",
                        "Epoch 75/100\n",
                        "33/33 [==============================] - 0s 853us/step - loss: 0.0937 - accuracy: 0.9706\n",
                        "Epoch 76/100\n",
                        "33/33 [==============================] - 0s 846us/step - loss: 0.0960 - accuracy: 0.9659\n",
                        "Epoch 77/100\n",
                        "33/33 [==============================] - 0s 824us/step - loss: 0.0878 - accuracy: 0.9735\n",
                        "Epoch 78/100\n",
                        "33/33 [==============================] - 0s 859us/step - loss: 0.0890 - accuracy: 0.9706\n",
                        "Epoch 79/100\n",
                        "33/33 [==============================] - 0s 764us/step - loss: 0.0957 - accuracy: 0.9763\n",
                        "Epoch 80/100\n",
                        "33/33 [==============================] - 0s 805us/step - loss: 0.0836 - accuracy: 0.9744\n",
                        "Epoch 81/100\n",
                        "33/33 [==============================] - 0s 820us/step - loss: 0.0808 - accuracy: 0.9820\n",
                        "Epoch 82/100\n",
                        "33/33 [==============================] - 0s 853us/step - loss: 0.0849 - accuracy: 0.9754\n",
                        "Epoch 83/100\n",
                        "33/33 [==============================] - 0s 815us/step - loss: 0.0825 - accuracy: 0.9716\n",
                        "Epoch 84/100\n",
                        "33/33 [==============================] - 0s 907us/step - loss: 0.0801 - accuracy: 0.9763\n",
                        "Epoch 85/100\n",
                        "33/33 [==============================] - 0s 819us/step - loss: 0.0782 - accuracy: 0.9820\n",
                        "Epoch 86/100\n",
                        "33/33 [==============================] - 0s 764us/step - loss: 0.0774 - accuracy: 0.9791\n",
                        "Epoch 87/100\n",
                        "33/33 [==============================] - 0s 853us/step - loss: 0.0776 - accuracy: 0.9820\n",
                        "Epoch 88/100\n",
                        "33/33 [==============================] - 0s 914us/step - loss: 0.0878 - accuracy: 0.9649\n",
                        "Epoch 89/100\n",
                        "33/33 [==============================] - 0s 780us/step - loss: 0.0759 - accuracy: 0.9763\n",
                        "Epoch 90/100\n",
                        "33/33 [==============================] - 0s 724us/step - loss: 0.0799 - accuracy: 0.9678\n",
                        "Epoch 91/100\n",
                        "33/33 [==============================] - 0s 834us/step - loss: 0.0736 - accuracy: 0.9829\n",
                        "Epoch 92/100\n",
                        "33/33 [==============================] - 0s 875us/step - loss: 0.0732 - accuracy: 0.9791\n",
                        "Epoch 93/100\n",
                        "33/33 [==============================] - 0s 2ms/step - loss: 0.0718 - accuracy: 0.9801\n",
                        "Epoch 94/100\n",
                        "33/33 [==============================] - 0s 1ms/step - loss: 0.0733 - accuracy: 0.9829\n",
                        "Epoch 95/100\n",
                        "33/33 [==============================] - 0s 999us/step - loss: 0.0846 - accuracy: 0.9716\n",
                        "Epoch 96/100\n",
                        "33/33 [==============================] - 0s 1ms/step - loss: 0.0712 - accuracy: 0.9754\n",
                        "Epoch 97/100\n",
                        "33/33 [==============================] - 0s 1ms/step - loss: 0.0690 - accuracy: 0.9801\n",
                        "Epoch 98/100\n",
                        "33/33 [==============================] - 0s 1ms/step - loss: 0.0738 - accuracy: 0.9735\n",
                        "Epoch 99/100\n",
                        "33/33 [==============================] - 0s 2ms/step - loss: 0.0708 - accuracy: 0.9829\n",
                        "Epoch 100/100\n",
                        "33/33 [==============================] - 0s 2ms/step - loss: 0.0689 - accuracy: 0.9810\n"
                    ]
                }
            ],
            "metadata": {}
        },
        {
            "cell_type": "code",
            "execution_count": 21,
            "source": [
                "modelo.test_on_batch(y_train, X_train)\n",
                "modelo.metrics_names"
            ],
            "outputs": [
                {
                    "output_type": "execute_result",
                    "data": {
                        "text/plain": [
                            "['loss', 'accuracy']"
                        ]
                    },
                    "metadata": {},
                    "execution_count": 21
                }
            ],
            "metadata": {}
        },
        {
            "cell_type": "code",
            "execution_count": 22,
            "source": [
                "print(historico.history.keys())"
            ],
            "outputs": [
                {
                    "output_type": "stream",
                    "name": "stdout",
                    "text": [
                        "dict_keys(['loss', 'accuracy'])\n"
                    ]
                }
            ],
            "metadata": {}
        },
        {
            "cell_type": "code",
            "execution_count": 23,
            "source": [
                "scores = modelo.evaluate(y_test, X_test)\n",
                "print(\"\\n\")\n",
                "print(\"Acuracia do modelo\")\n",
                "print(\"\\n%s: %2f%%\" % (modelo.metrics_names[1], scores[1]*100))"
            ],
            "outputs": [
                {
                    "output_type": "stream",
                    "name": "stdout",
                    "text": [
                        "17/17 [==============================] - 0s 1ms/step - loss: 0.0589 - accuracy: 0.9885\n",
                        "\n",
                        "\n",
                        "Acuracia do modelo\n",
                        "\n",
                        "accuracy: 98.846155%\n"
                    ]
                }
            ],
            "metadata": {}
        },
        {
            "cell_type": "code",
            "execution_count": 24,
            "source": [
                "prediction = modelo.predict([[-74, -64, -51, -19, -11, 11, 23]])\n",
                "print(\"prediction shape:\", prediction)"
            ],
            "outputs": [
                {
                    "output_type": "stream",
                    "name": "stdout",
                    "text": [
                        "prediction shape: [[5.4592372e-12]]\n"
                    ]
                }
            ],
            "metadata": {}
        },
        {
            "cell_type": "code",
            "execution_count": 25,
            "source": [
                "from matplotlib import pyplot as plt\n",
                "pd.DataFrame(historico.history).plot(figsize=(8,5))\n",
                "plt.show()"
            ],
            "outputs": [
                {
                    "output_type": "display_data",
                    "data": {
                        "image/png": "[encoded data removed]",
                        "text/plain": [
                            "<Figure size 576x360 with 1 Axes>"
                        ]
                    },
                    "metadata": {
                        "needs_background": "light"
                    }
                }
            ],
            "metadata": {}
        },
        {
            "cell_type": "code",
            "execution_count": 26,
            "source": [
                "from random import sample\n",
                "from random import randint\n",
                "\n",
                "aux = 0\n",
                "while (1):\n",
                "  #sorteados = sample(range(-100, 100), 7)\n",
                "  #print(sorteados)\n",
                "  #sorteio = sample(range(-100, 100), 1)\n",
                "  kd = randint(-100, 100)\n",
                "  ki = randint(-100, 100)\n",
                "  kp = randint(-100, 100)\n",
                "\n",
                "  valor = [130, -83.18, kd, ki, kp, -83.3, 200]\n",
                "  #print(valor)\n",
                "\n",
                "  prediction = modelo.predict([valor])*100\n",
                "\n",
                "  if prediction >= 0.8:\n",
                "    print(\"tentativa: \", aux)\n",
                "    print(\"numeros: \", valor)\n",
                "    print(\"prediction shape:\", prediction)\n",
                "  aux += 1"
            ],
            "outputs": [
                {
                    "output_type": "error",
                    "ename": "KeyboardInterrupt",
                    "evalue": "",
                    "traceback": [
                        "\u001b[0;31m---------------------------------------------------------------------------\u001b[0m",
                        "\u001b[0;31mKeyboardInterrupt\u001b[0m                         Traceback (most recent call last)",
                        "\u001b[0;32m<ipython-input-26-b5aa8915822d>\u001b[0m in \u001b[0;36m<module>\u001b[0;34m\u001b[0m\n\u001b[1;32m     14\u001b[0m   \u001b[0;31m#print(valor)\u001b[0m\u001b[0;34m\u001b[0m\u001b[0;34m\u001b[0m\u001b[0;34m\u001b[0m\u001b[0m\n\u001b[1;32m     15\u001b[0m \u001b[0;34m\u001b[0m\u001b[0m\n\u001b[0;32m---> 16\u001b[0;31m   \u001b[0mprediction\u001b[0m \u001b[0;34m=\u001b[0m \u001b[0mmodelo\u001b[0m\u001b[0;34m.\u001b[0m\u001b[0mpredict\u001b[0m\u001b[0;34m(\u001b[0m\u001b[0;34m[\u001b[0m\u001b[0mvalor\u001b[0m\u001b[0;34m]\u001b[0m\u001b[0;34m)\u001b[0m\u001b[0;34m*\u001b[0m\u001b[0;36m100\u001b[0m\u001b[0;34m\u001b[0m\u001b[0;34m\u001b[0m\u001b[0m\n\u001b[0m\u001b[1;32m     17\u001b[0m \u001b[0;34m\u001b[0m\u001b[0m\n\u001b[1;32m     18\u001b[0m   \u001b[0;32mif\u001b[0m \u001b[0mprediction\u001b[0m \u001b[0;34m>=\u001b[0m \u001b[0;36m0.8\u001b[0m\u001b[0;34m:\u001b[0m\u001b[0;34m\u001b[0m\u001b[0;34m\u001b[0m\u001b[0m\n",
                        "\u001b[0;32m~/.local/lib/python3.8/site-packages/keras/engine/training.py\u001b[0m in \u001b[0;36mpredict\u001b[0;34m(self, x, batch_size, verbose, steps, callbacks, max_queue_size, workers, use_multiprocessing)\u001b[0m\n\u001b[1;32m   1745\u001b[0m       \u001b[0mcallbacks\u001b[0m\u001b[0;34m.\u001b[0m\u001b[0mon_predict_begin\u001b[0m\u001b[0;34m(\u001b[0m\u001b[0;34m)\u001b[0m\u001b[0;34m\u001b[0m\u001b[0;34m\u001b[0m\u001b[0m\n\u001b[1;32m   1746\u001b[0m       \u001b[0mbatch_outputs\u001b[0m \u001b[0;34m=\u001b[0m \u001b[0;32mNone\u001b[0m\u001b[0;34m\u001b[0m\u001b[0;34m\u001b[0m\u001b[0m\n\u001b[0;32m-> 1747\u001b[0;31m       \u001b[0;32mfor\u001b[0m \u001b[0m_\u001b[0m\u001b[0;34m,\u001b[0m \u001b[0miterator\u001b[0m \u001b[0;32min\u001b[0m \u001b[0mdata_handler\u001b[0m\u001b[0;34m.\u001b[0m\u001b[0menumerate_epochs\u001b[0m\u001b[0;34m(\u001b[0m\u001b[0;34m)\u001b[0m\u001b[0;34m:\u001b[0m  \u001b[0;31m# Single epoch.\u001b[0m\u001b[0;34m\u001b[0m\u001b[0;34m\u001b[0m\u001b[0m\n\u001b[0m\u001b[1;32m   1748\u001b[0m         \u001b[0;32mwith\u001b[0m \u001b[0mdata_handler\u001b[0m\u001b[0;34m.\u001b[0m\u001b[0mcatch_stop_iteration\u001b[0m\u001b[0;34m(\u001b[0m\u001b[0;34m)\u001b[0m\u001b[0;34m:\u001b[0m\u001b[0;34m\u001b[0m\u001b[0;34m\u001b[0m\u001b[0m\n\u001b[1;32m   1749\u001b[0m           \u001b[0;32mfor\u001b[0m \u001b[0mstep\u001b[0m \u001b[0;32min\u001b[0m \u001b[0mdata_handler\u001b[0m\u001b[0;34m.\u001b[0m\u001b[0msteps\u001b[0m\u001b[0;34m(\u001b[0m\u001b[0;34m)\u001b[0m\u001b[0;34m:\u001b[0m\u001b[0;34m\u001b[0m\u001b[0;34m\u001b[0m\u001b[0m\n",
                        "\u001b[0;32m~/.local/lib/python3.8/site-packages/keras/engine/data_adapter.py\u001b[0m in \u001b[0;36menumerate_epochs\u001b[0;34m(self)\u001b[0m\n\u001b[1;32m   1183\u001b[0m           \u001b[0;32mbreak\u001b[0m\u001b[0;34m\u001b[0m\u001b[0;34m\u001b[0m\u001b[0m\n\u001b[1;32m   1184\u001b[0m         \u001b[0;32mif\u001b[0m \u001b[0mself\u001b[0m\u001b[0;34m.\u001b[0m\u001b[0m_adapter\u001b[0m\u001b[0;34m.\u001b[0m\u001b[0mshould_recreate_iterator\u001b[0m\u001b[0;34m(\u001b[0m\u001b[0;34m)\u001b[0m\u001b[0;34m:\u001b[0m\u001b[0;34m\u001b[0m\u001b[0;34m\u001b[0m\u001b[0m\n\u001b[0;32m-> 1185\u001b[0;31m           \u001b[0mdata_iterator\u001b[0m \u001b[0;34m=\u001b[0m \u001b[0miter\u001b[0m\u001b[0;34m(\u001b[0m\u001b[0mself\u001b[0m\u001b[0;34m.\u001b[0m\u001b[0m_dataset\u001b[0m\u001b[0;34m)\u001b[0m\u001b[0;34m\u001b[0m\u001b[0;34m\u001b[0m\u001b[0m\n\u001b[0m\u001b[1;32m   1186\u001b[0m         \u001b[0;32myield\u001b[0m \u001b[0mepoch\u001b[0m\u001b[0;34m,\u001b[0m \u001b[0mdata_iterator\u001b[0m\u001b[0;34m\u001b[0m\u001b[0;34m\u001b[0m\u001b[0m\n\u001b[1;32m   1187\u001b[0m         \u001b[0mself\u001b[0m\u001b[0;34m.\u001b[0m\u001b[0m_adapter\u001b[0m\u001b[0;34m.\u001b[0m\u001b[0mon_epoch_end\u001b[0m\u001b[0;34m(\u001b[0m\u001b[0;34m)\u001b[0m\u001b[0;34m\u001b[0m\u001b[0;34m\u001b[0m\u001b[0m\n",
                        "\u001b[0;32m~/.local/lib/python3.8/site-packages/tensorflow/python/data/ops/dataset_ops.py\u001b[0m in \u001b[0;36m__iter__\u001b[0;34m(self)\u001b[0m\n\u001b[1;32m    409\u001b[0m     \u001b[0;32mif\u001b[0m \u001b[0mcontext\u001b[0m\u001b[0;34m.\u001b[0m\u001b[0mexecuting_eagerly\u001b[0m\u001b[0;34m(\u001b[0m\u001b[0;34m)\u001b[0m \u001b[0;32mor\u001b[0m \u001b[0mops\u001b[0m\u001b[0;34m.\u001b[0m\u001b[0minside_function\u001b[0m\u001b[0;34m(\u001b[0m\u001b[0;34m)\u001b[0m\u001b[0;34m:\u001b[0m\u001b[0;34m\u001b[0m\u001b[0;34m\u001b[0m\u001b[0m\n\u001b[1;32m    410\u001b[0m       \u001b[0;32mwith\u001b[0m \u001b[0mops\u001b[0m\u001b[0;34m.\u001b[0m\u001b[0mcolocate_with\u001b[0m\u001b[0;34m(\u001b[0m\u001b[0mself\u001b[0m\u001b[0;34m.\u001b[0m\u001b[0m_variant_tensor\u001b[0m\u001b[0;34m)\u001b[0m\u001b[0;34m:\u001b[0m\u001b[0;34m\u001b[0m\u001b[0;34m\u001b[0m\u001b[0m\n\u001b[0;32m--> 411\u001b[0;31m         \u001b[0;32mreturn\u001b[0m \u001b[0miterator_ops\u001b[0m\u001b[0;34m.\u001b[0m\u001b[0mOwnedIterator\u001b[0m\u001b[0;34m(\u001b[0m\u001b[0mself\u001b[0m\u001b[0;34m)\u001b[0m\u001b[0;34m\u001b[0m\u001b[0;34m\u001b[0m\u001b[0m\n\u001b[0m\u001b[1;32m    412\u001b[0m     \u001b[0;32melse\u001b[0m\u001b[0;34m:\u001b[0m\u001b[0;34m\u001b[0m\u001b[0;34m\u001b[0m\u001b[0m\n\u001b[1;32m    413\u001b[0m       raise RuntimeError(\"__iter__() is only supported inside of tf.function \"\n",
                        "\u001b[0;32m~/.local/lib/python3.8/site-packages/tensorflow/python/data/ops/iterator_ops.py\u001b[0m in \u001b[0;36m__init__\u001b[0;34m(self, dataset, components, element_spec)\u001b[0m\n\u001b[1;32m    694\u001b[0m       \u001b[0;32mif\u001b[0m \u001b[0;34m(\u001b[0m\u001b[0mcomponents\u001b[0m \u001b[0;32mis\u001b[0m \u001b[0;32mnot\u001b[0m \u001b[0;32mNone\u001b[0m \u001b[0;32mor\u001b[0m \u001b[0melement_spec\u001b[0m \u001b[0;32mis\u001b[0m \u001b[0;32mnot\u001b[0m \u001b[0;32mNone\u001b[0m\u001b[0;34m)\u001b[0m\u001b[0;34m:\u001b[0m\u001b[0;34m\u001b[0m\u001b[0;34m\u001b[0m\u001b[0m\n\u001b[1;32m    695\u001b[0m         \u001b[0;32mraise\u001b[0m \u001b[0mValueError\u001b[0m\u001b[0;34m(\u001b[0m\u001b[0merror_message\u001b[0m\u001b[0;34m)\u001b[0m\u001b[0;34m\u001b[0m\u001b[0;34m\u001b[0m\u001b[0m\n\u001b[0;32m--> 696\u001b[0;31m       \u001b[0mself\u001b[0m\u001b[0;34m.\u001b[0m\u001b[0m_create_iterator\u001b[0m\u001b[0;34m(\u001b[0m\u001b[0mdataset\u001b[0m\u001b[0;34m)\u001b[0m\u001b[0;34m\u001b[0m\u001b[0;34m\u001b[0m\u001b[0m\n\u001b[0m\u001b[1;32m    697\u001b[0m \u001b[0;34m\u001b[0m\u001b[0m\n\u001b[1;32m    698\u001b[0m   \u001b[0;32mdef\u001b[0m \u001b[0m_create_iterator\u001b[0m\u001b[0;34m(\u001b[0m\u001b[0mself\u001b[0m\u001b[0;34m,\u001b[0m \u001b[0mdataset\u001b[0m\u001b[0;34m)\u001b[0m\u001b[0;34m:\u001b[0m\u001b[0;34m\u001b[0m\u001b[0;34m\u001b[0m\u001b[0m\n",
                        "\u001b[0;32m~/.local/lib/python3.8/site-packages/tensorflow/python/data/ops/iterator_ops.py\u001b[0m in \u001b[0;36m_create_iterator\u001b[0;34m(self, dataset)\u001b[0m\n\u001b[1;32m    717\u001b[0m               \u001b[0moutput_types\u001b[0m\u001b[0;34m=\u001b[0m\u001b[0mself\u001b[0m\u001b[0;34m.\u001b[0m\u001b[0m_flat_output_types\u001b[0m\u001b[0;34m,\u001b[0m\u001b[0;34m\u001b[0m\u001b[0;34m\u001b[0m\u001b[0m\n\u001b[1;32m    718\u001b[0m               output_shapes=self._flat_output_shapes))\n\u001b[0;32m--> 719\u001b[0;31m       \u001b[0mgen_dataset_ops\u001b[0m\u001b[0;34m.\u001b[0m\u001b[0mmake_iterator\u001b[0m\u001b[0;34m(\u001b[0m\u001b[0mds_variant\u001b[0m\u001b[0;34m,\u001b[0m \u001b[0mself\u001b[0m\u001b[0;34m.\u001b[0m\u001b[0m_iterator_resource\u001b[0m\u001b[0;34m)\u001b[0m\u001b[0;34m\u001b[0m\u001b[0;34m\u001b[0m\u001b[0m\n\u001b[0m\u001b[1;32m    720\u001b[0m       \u001b[0;31m# Delete the resource when this object is deleted\u001b[0m\u001b[0;34m\u001b[0m\u001b[0;34m\u001b[0m\u001b[0;34m\u001b[0m\u001b[0m\n\u001b[1;32m    721\u001b[0m       self._resource_deleter = IteratorResourceDeleter(\n",
                        "\u001b[0;32m~/.local/lib/python3.8/site-packages/tensorflow/python/ops/gen_dataset_ops.py\u001b[0m in \u001b[0;36mmake_iterator\u001b[0;34m(dataset, iterator, name)\u001b[0m\n\u001b[1;32m   3118\u001b[0m   \u001b[0;32mif\u001b[0m \u001b[0mtld\u001b[0m\u001b[0;34m.\u001b[0m\u001b[0mis_eager\u001b[0m\u001b[0;34m:\u001b[0m\u001b[0;34m\u001b[0m\u001b[0;34m\u001b[0m\u001b[0m\n\u001b[1;32m   3119\u001b[0m     \u001b[0;32mtry\u001b[0m\u001b[0;34m:\u001b[0m\u001b[0;34m\u001b[0m\u001b[0;34m\u001b[0m\u001b[0m\n\u001b[0;32m-> 3120\u001b[0;31m       _result = pywrap_tfe.TFE_Py_FastPathExecute(\n\u001b[0m\u001b[1;32m   3121\u001b[0m         _ctx, \"MakeIterator\", name, dataset, iterator)\n\u001b[1;32m   3122\u001b[0m       \u001b[0;32mreturn\u001b[0m \u001b[0m_result\u001b[0m\u001b[0;34m\u001b[0m\u001b[0;34m\u001b[0m\u001b[0m\n",
                        "\u001b[0;31mKeyboardInterrupt\u001b[0m: "
                    ]
                }
            ],
            "metadata": {}
        },
        {
            "cell_type": "code",
            "execution_count": null,
            "source": [],
            "outputs": [],
            "metadata": {}
        }
    ],
    "metadata": {
        "orig_nbformat": 4,
        "language_info": {
            "name": "python",
            "version": "3.8.10",
            "mimetype": "text/x-python",
            "codemirror_mode": {
                "name": "ipython",
                "version": 3
            },
            "pygments_lexer": "ipython3",
            "nbconvert_exporter": "python",
            "file_extension": ".py"
        },
        "kernelspec": {
            "name": "python3",
            "display_name": "Python 3.8.10 64-bit"
        },
        "interpreter": {
            "hash": "916dbcbb3f70747c44a77c7bcd40155683ae19c65e1c03b4aa3499c5328201f1"
        }
    },
    "nbformat": 4,
    "nbformat_minor": 2
}