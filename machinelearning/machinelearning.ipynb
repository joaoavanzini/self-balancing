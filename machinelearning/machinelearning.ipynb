{
    "cells": [
        {
            "cell_type": "code",
            "execution_count": 2,
            "source": [
                "import json\r\n",
                "import requests"
            ],
            "outputs": [],
            "metadata": {}
        },
        {
            "cell_type": "code",
            "execution_count": 4,
            "source": [
                "r = requests.get(\"http://192.168.15.131:5000/api/v0.01/selfbalancing/mongodb/all\")\r\n",
                "if r.status_code == 200:\r\n",
                "    register = json.loads(r.content)"
            ],
            "outputs": [],
            "metadata": {}
        },
        {
            "cell_type": "code",
            "execution_count": null,
            "source": [],
            "outputs": [],
            "metadata": {}
        }
    ],
    "metadata": {
        "orig_nbformat": 4,
        "language_info": {
            "name": "python",
            "version": "3.8.6",
            "mimetype": "text/x-python",
            "codemirror_mode": {
                "name": "ipython",
                "version": 3
            },
            "pygments_lexer": "ipython3",
            "nbconvert_exporter": "python",
            "file_extension": ".py"
        },
        "kernelspec": {
            "name": "python3",
            "display_name": "Python 3.8.6 64-bit"
        },
        "interpreter": {
            "hash": "481d289b8b4602c775f7b6239f62705832dd57baaa14516f97b0c597b549c1fd"
        }
    },
    "nbformat": 4,
    "nbformat_minor": 2
}